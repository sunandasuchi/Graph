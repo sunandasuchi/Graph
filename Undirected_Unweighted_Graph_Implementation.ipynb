{
  "nbformat": 4,
  "nbformat_minor": 0,
  "metadata": {
    "colab": {
      "name": "Undirected_Unweighted_Graph_Implementation.ipynb",
      "provenance": []
    },
    "kernelspec": {
      "name": "python3",
      "display_name": "Python 3"
    }
  },
  "cells": [
    {
      "cell_type": "markdown",
      "metadata": {
        "id": "0hC8zCvNdHtG"
      },
      "source": [
        "### **Undirected_Unweighted_Graph_Implementation**"
      ]
    },
    {
      "cell_type": "code",
      "metadata": {
        "id": "J2GuYtzFu52z"
      },
      "source": [
        "class Graph:\r\n",
        "  def __init__(self):\r\n",
        "    self.nnode = 0\r\n",
        "    self.adjacentlist = {}\r\n",
        "\r\n",
        "  def vertex(self, data):\r\n",
        "    if data not in self.adjacentlist:\r\n",
        "      self.adjacentlist[data] = []\r\n",
        "      self.nnode += 1\r\n",
        "      return\r\n",
        "\r\n",
        "  def addEdge(self, vertex1, vertex2):\r\n",
        "      if vertex2 not in self.adjacentlist[vertex1]:\r\n",
        "        self.adjacentlist[vertex1].append(vertex2)\r\n",
        "        self.adjacentlist[vertex2].append(vertex1)\r\n",
        "      else:\r\n",
        "        return \"Already Exists\"\r\n",
        "\r\n",
        "  def show(self):\r\n",
        "    for i in self.adjacentlist:\r\n",
        "      print(i, end = \" -->  \")\r\n",
        "      for x in self.adjacentlist[i]:\r\n",
        "       print(x, end = \"   \")\r\n",
        "      print()\r\n",
        "\r\n",
        "\r\n"
      ],
      "execution_count": 15,
      "outputs": []
    },
    {
      "cell_type": "code",
      "metadata": {
        "id": "CvUqjLFIaQUR"
      },
      "source": [
        "myGraph = Graph()\r\n",
        "myGraph.vertex('0')\r\n",
        "myGraph.vertex('1')\r\n",
        "myGraph.vertex('2')\r\n",
        "myGraph.vertex('3')\r\n",
        "myGraph.vertex('4')\r\n",
        "myGraph.vertex('5')\r\n",
        "myGraph.vertex('6')\r\n",
        "myGraph.addEdge('3', '1')\r\n",
        "myGraph.addEdge('3', '4')\r\n",
        "myGraph.addEdge('4', '2') \r\n",
        "myGraph.addEdge('4', '5') \r\n",
        "myGraph.addEdge('1', '2') \r\n",
        "myGraph.addEdge('1', '0') \r\n",
        "myGraph.addEdge('0', '2') \r\n",
        "myGraph.addEdge('6', '5')\r\n"
      ],
      "execution_count": 16,
      "outputs": []
    },
    {
      "cell_type": "code",
      "metadata": {
        "colab": {
          "base_uri": "https://localhost:8080/"
        },
        "id": "V84jdkn0a5dO",
        "outputId": "1d5c2405-cbd1-4c85-8872-107061637d8a"
      },
      "source": [
        "myGraph.show()"
      ],
      "execution_count": 17,
      "outputs": [
        {
          "output_type": "stream",
          "text": [
            "0 -->  1   2   \n",
            "1 -->  3   2   0   \n",
            "2 -->  4   1   0   \n",
            "3 -->  1   4   \n",
            "4 -->  3   2   5   \n",
            "5 -->  4   6   \n",
            "6 -->  5   \n"
          ],
          "name": "stdout"
        }
      ]
    }
  ]
}